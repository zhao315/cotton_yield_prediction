{
 "cells": [
  {
   "cell_type": "markdown",
   "id": "9e5108f0-ef0f-4983-ab5e-2debb73a3660",
   "metadata": {
    "tags": []
   },
   "source": [
    "## Yield Prediction Model Search"
   ]
  },
  {
   "cell_type": "code",
   "execution_count": 1,
   "id": "653d947b-beb8-4b40-8083-19869887de8c",
   "metadata": {
    "tags": []
   },
   "outputs": [],
   "source": [
    "import os\n",
    "os.environ[\"TF_CPP_MIN_LOG_LEVEL\"] = \"2\""
   ]
  },
  {
   "cell_type": "code",
   "execution_count": 2,
   "id": "28e7228a-e68d-4d86-b420-87b63d48af15",
   "metadata": {
    "tags": []
   },
   "outputs": [],
   "source": [
    "import numpy as np\n",
    "import pandas as pd"
   ]
  },
  {
   "cell_type": "code",
   "execution_count": 3,
   "id": "358e7ac3-1f57-48d9-bca4-b1c33ee717cf",
   "metadata": {
    "tags": []
   },
   "outputs": [],
   "source": [
    "FEATURES = (\"grid_cc\", \"grid_exg\", \"grid_ch\", \"grid_cv\")"
   ]
  },
  {
   "cell_type": "markdown",
   "id": "4f8e111a-d9ec-4889-a35b-f78c53e188db",
   "metadata": {},
   "source": [
    "### load data"
   ]
  },
  {
   "cell_type": "code",
   "execution_count": 4,
   "id": "0e9908ef-6aa8-4c87-9a83-f2e493ca104b",
   "metadata": {
    "tags": []
   },
   "outputs": [],
   "source": [
    "# modify here with your dataset\n",
    "def load_data(data_dir):\n",
    "    data = dict()\n",
    "\n",
    "    file_names = [\n",
    "        file_name for file_name in os.listdir(data_dir) if not file_name.startswith(\".\")\n",
    "    ]\n",
    "    for file_name in file_names:\n",
    "        feature, file_type = os.path.splitext(file_name)\n",
    "        file_dir = os.path.join(data_dir, file_name)\n",
    "        if file_type[1:].lower() == \"csv\":\n",
    "            data[feature] = pd.read_csv(file_dir)\n",
    "        else:\n",
    "            data[feature] = pd.read_pickle(file_dir)\n",
    "\n",
    "    return data"
   ]
  },
  {
   "cell_type": "code",
   "execution_count": 5,
   "id": "bf149f09-feef-4fcf-82d3-7c018cd9a93d",
   "metadata": {
    "tags": []
   },
   "outputs": [],
   "source": [
    "# data_2020 = load_data(\"./splined_data/2020/\")\n",
    "# data_2021 = load_data(\"./splined_data/2021/\")\n",
    "# data_2022 = load_data(\"./splined_data/2022/\")"
   ]
  },
  {
   "cell_type": "markdown",
   "id": "21925365-28da-47f3-9d77-ab1d9e80f9df",
   "metadata": {},
   "source": [
    "### create training set and validation set"
   ]
  },
  {
   "cell_type": "code",
   "execution_count": 10,
   "id": "97f0d725-a6a0-456c-9f16-228094b24555",
   "metadata": {
    "tags": []
   },
   "outputs": [],
   "source": [
    "def generate_train_test(train_datasets, test_dataset, features):\n",
    "    x_trainset = []\n",
    "    y_trainset = []\n",
    "    # generate trainset\n",
    "    for train_data in train_datasets:\n",
    "        tmp = np.concatenate([train_data[feature] for feature in features], axis=1)\n",
    "        x_trainset.append(tmp)\n",
    "        y_trainset.append(train_data[\"yield\"])\n",
    "    x_trainset = np.concatenate(x_trainset, axis=0)\n",
    "    y_trainset = np.concatenate(y_trainset, axis=0).reshape(-1, 1)\n",
    "    assert x_trainset.shape[0] == y_trainset.shape[0]\n",
    "\n",
    "    # generate testset\n",
    "    y_testset = test_dataset[\"yield\"].values.reshape(-1, 1)\n",
    "    x_testset = np.concatenate([test_dataset[feature] for feature in features], axis=1)\n",
    "    assert x_trainset.shape[1] == x_testset.shape[1]\n",
    "    \n",
    "    return x_trainset, x_testset, y_trainset, y_testset"
   ]
  },
  {
   "cell_type": "code",
   "execution_count": 25,
   "id": "c8be70ef-9541-47ee-b2b4-20092c7b9aaf",
   "metadata": {
    "tags": []
   },
   "outputs": [],
   "source": [
    "# use all four features to train the model\n",
    "features = (\"grid_cc\", \"grid_exg\", \"grid_ch\", \"grid_cv\")\n",
    "\n",
    "# 2020, 2021 for training\n",
    "# 2022 for test\n",
    "train_datasets = [data_2020, data_2021]\n",
    "\n",
    "x_trainset, x_testset, y_trainset, y_testset = generate_train_test(train_datasets,  data_2022, features)"
   ]
  },
  {
   "cell_type": "markdown",
   "id": "25152515-90c3-4e90-9343-42468b90d446",
   "metadata": {},
   "source": [
    "### training_set, validation_set, and test_set split"
   ]
  },
  {
   "cell_type": "code",
   "execution_count": 12,
   "id": "8b0e9300-29e7-4806-9389-3732c6cd03be",
   "metadata": {
    "tags": []
   },
   "outputs": [],
   "source": [
    "from sklearn.model_selection import train_test_split\n",
    "from sklearn.preprocessing import StandardScaler"
   ]
  },
  {
   "cell_type": "code",
   "execution_count": 13,
   "id": "e25afb75-99d1-42a0-971e-218afb44d1ae",
   "metadata": {
    "tags": []
   },
   "outputs": [],
   "source": [
    "def split_train_valid_test(x_trainset, y_trainset, x_testset, y_testset, test_size=0.3):\n",
    "    # split data\n",
    "    x_train, x_valid, y_train, y_valid = train_test_split(\n",
    "        x_trainset, y_trainset, test_size=test_size, random_state=42\n",
    "    )\n",
    "    x_valid, x_test, y_valid, y_test = train_test_split(\n",
    "        x_valid, y_valid, test_size=0.5, random_state=43\n",
    "    )\n",
    "\n",
    "    # standardize data\n",
    "    standardize_scaler = StandardScaler()\n",
    "    x_train = standardize_scaler.fit_transform(x_train)\n",
    "    x_valid = standardize_scaler.transform(x_valid)\n",
    "    x_test = standardize_scaler.transform(x_test)\n",
    "    x_testset = standardize_scaler.transform(x_testset)\n",
    "\n",
    "    return x_train, x_valid, x_test, x_testset, y_train, y_valid, y_test, y_testset"
   ]
  },
  {
   "cell_type": "code",
   "execution_count": 14,
   "id": "c5a15020-f967-4200-9126-859e453b73ad",
   "metadata": {
    "tags": []
   },
   "outputs": [],
   "source": [
    "x_train, x_valid, x_test, x_testset, y_train, y_valid, y_test, y_testset = split_train_valid_test(x_trainset, y_trainset, x_testset, y_testset)"
   ]
  },
  {
   "cell_type": "markdown",
   "id": "49971219-612d-414a-bba6-3be19ca57826",
   "metadata": {},
   "source": [
    "### define model (MLP)"
   ]
  },
  {
   "cell_type": "code",
   "execution_count": 15,
   "id": "8c9506d4-940d-4af1-b46f-00a14250fdb2",
   "metadata": {
    "tags": []
   },
   "outputs": [],
   "source": [
    "import keras_tuner\n",
    "import tensorflow as tf\n",
    "import tensorflow_addons as tfa\n",
    "from tensorflow import keras\n",
    "from tensorflow.keras import layers"
   ]
  },
  {
   "cell_type": "code",
   "execution_count": 16,
   "id": "fe41266f-e93e-462d-8d49-bcf6df8f735f",
   "metadata": {
    "tags": []
   },
   "outputs": [],
   "source": [
    "args = {\n",
    "    \"dropout\": [0.2, 0.6],\n",
    "    \"learning_rate\": [1e-5, 1e-2],\n",
    "    \"num_layer\": [2, 15],\n",
    "    \"num_units\": [32, 2048, 32],\n",
    "    \"activation\": [\"relu\", \"tanh\"],\n",
    "}"
   ]
  },
  {
   "cell_type": "code",
   "execution_count": 17,
   "id": "a8274e56-8a63-43c3-80d1-f8a12b99e94f",
   "metadata": {
    "tags": []
   },
   "outputs": [],
   "source": [
    "def build_model(hp):\n",
    "    model = keras.Sequential()\n",
    "    model.add(layers.Flatten())\n",
    "\n",
    "    dropout_rate = hp.Float(\n",
    "        \"dr\", min_value=args[\"dropout\"][0], max_value=args[\"dropout\"][1], sampling=\"log\"\n",
    "    )\n",
    "    learning_rate = hp.Float(\n",
    "        \"lr\",\n",
    "        min_value=args[\"learning_rate\"][0],\n",
    "        max_value=args[\"learning_rate\"][1],\n",
    "        sampling=\"log\",\n",
    "    )\n",
    "\n",
    "    for i in range(\n",
    "        hp.Int(\n",
    "            \"num_layer\", min_value=args[\"num_layer\"][0], max_value=args[\"num_layer\"][1]\n",
    "        )\n",
    "    ):\n",
    "        model.add(\n",
    "            layers.Dense(\n",
    "                units=hp.Int(\n",
    "                    f\"units_{i}\",\n",
    "                    min_value=args[\"num_units\"][0],\n",
    "                    max_value=args[\"num_units\"][1],\n",
    "                    step=args[\"num_units\"][2],\n",
    "                ),\n",
    "                activation=hp.Choice(\"activation\", args[\"activation\"]),\n",
    "            )\n",
    "        )\n",
    "        if hp.Boolean(\"dropout\"):\n",
    "            model.add(layers.Dropout(rate=dropout_rate))\n",
    "    # output layer\n",
    "    model.add(layers.Dense(1))\n",
    "\n",
    "    model.compile(\n",
    "        optimizer=keras.optimizers.Adam(learning_rate=learning_rate),\n",
    "        loss=\"mean_squared_error\",\n",
    "        metrics=[tfa.metrics.r_square.RSquare()],\n",
    "    )\n",
    "    return model"
   ]
  },
  {
   "cell_type": "code",
   "execution_count": 18,
   "id": "a839a006-bc5f-4659-97d1-33b93e176775",
   "metadata": {
    "tags": []
   },
   "outputs": [
    {
     "data": {
      "text/plain": [
       "<keras.engine.sequential.Sequential at 0x7efc587dbd60>"
      ]
     },
     "execution_count": 18,
     "metadata": {},
     "output_type": "execute_result"
    }
   ],
   "source": [
    "build_model(keras_tuner.HyperParameters())"
   ]
  },
  {
   "cell_type": "markdown",
   "id": "7c4e24a2-ec64-47ed-81c9-0a73a2b8604c",
   "metadata": {},
   "source": [
    "### model search"
   ]
  },
  {
   "cell_type": "code",
   "execution_count": 19,
   "id": "95df2ea2-feef-45f6-835a-78447b465067",
   "metadata": {
    "tags": []
   },
   "outputs": [],
   "source": [
    "tuner_args = {\n",
    "    \"max_trials\": 2,\n",
    "    \"executions_per_trial\": 1,\n",
    "    \"project_name\": \"cc_exg_ch_cv\",\n",
    "}"
   ]
  },
  {
   "cell_type": "code",
   "execution_count": 20,
   "id": "5531ab30-6d58-42e2-ae77-184cdaa0d6c5",
   "metadata": {
    "tags": []
   },
   "outputs": [],
   "source": [
    "# use random search\n",
    "tuner = keras_tuner.RandomSearch(\n",
    "    hypermodel=build_model,\n",
    "    objective=keras_tuner.Objective(\"val_r_square\", direction=\"max\"),\n",
    "    max_trials=tuner_args[\"max_trials\"],\n",
    "    executions_per_trial=tuner_args[\"executions_per_trial\"],\n",
    "    overwrite=True,\n",
    "    directory=\"model_search\",\n",
    "    project_name=tuner_args[\"project_name\"],\n",
    ")"
   ]
  },
  {
   "cell_type": "markdown",
   "id": "332908b1-86ce-4d7e-9142-4914fcb17652",
   "metadata": {},
   "source": [
    "### train model"
   ]
  },
  {
   "cell_type": "code",
   "execution_count": 21,
   "id": "7054652f-d1af-4661-9f2b-290e52128954",
   "metadata": {},
   "outputs": [
    {
     "name": "stdout",
     "output_type": "stream",
     "text": [
      "Trial 2 Complete [00h 00m 06s]\n",
      "val_r_square: 0.7563138008117676\n",
      "\n",
      "Best val_r_square So Far: 0.7563138008117676\n",
      "Total elapsed time: 00h 00m 14s\n",
      "INFO:tensorflow:Oracle triggered exit\n"
     ]
    }
   ],
   "source": [
    "tuner.search(x_train, y_train, epochs=5, validation_data=(x_valid,y_valid))"
   ]
  },
  {
   "cell_type": "markdown",
   "id": "523a4b8b-9432-49db-b21d-9a4b78e9a95c",
   "metadata": {},
   "source": [
    "### save model"
   ]
  },
  {
   "cell_type": "code",
   "execution_count": 22,
   "id": "0ed632b3-240c-4894-940d-ecc2e69a3baf",
   "metadata": {},
   "outputs": [
    {
     "name": "stderr",
     "output_type": "stream",
     "text": [
      "WARNING:absl:Found untraced functions such as _update_step_xla while saving (showing 1 of 1). These functions will not be directly callable after loading.\n"
     ]
    },
    {
     "name": "stdout",
     "output_type": "stream",
     "text": [
      "INFO:tensorflow:Assets written to: saved_model/best_model/assets\n"
     ]
    },
    {
     "name": "stderr",
     "output_type": "stream",
     "text": [
      "INFO:tensorflow:Assets written to: saved_model/best_model/assets\n"
     ]
    }
   ],
   "source": [
    "models = tuner.get_best_models(num_models=2)\n",
    "best_model  = models[0]\n",
    "\n",
    "# generate model\n",
    "input_size = x_train.shape[1]\n",
    "best_model.build(input_shape=(None, input_size))\n",
    "\n",
    "best_model.save(\"saved_model/best_model\")"
   ]
  },
  {
   "cell_type": "markdown",
   "id": "ce0a64ff-7b74-46b4-8f8a-79ac1d734d88",
   "metadata": {},
   "source": [
    "### yield predictin"
   ]
  },
  {
   "cell_type": "code",
   "execution_count": 23,
   "id": "712eb07b-2364-4ba9-9c90-aed00aca9e7d",
   "metadata": {
    "tags": []
   },
   "outputs": [],
   "source": [
    "from sklearn.metrics import mean_squared_error"
   ]
  },
  {
   "cell_type": "code",
   "execution_count": 24,
   "id": "fadfa513-5e8b-4cb8-9087-cac1e8ec1278",
   "metadata": {
    "tags": []
   },
   "outputs": [
    {
     "name": "stdout",
     "output_type": "stream",
     "text": [
      "rmse: 1.99\n"
     ]
    }
   ],
   "source": [
    "preds = best_model(x_testset)\n",
    "\n",
    "# calculate RMSE, R2 \n",
    "rmse = mean_squared_error(y_testset, preds)\n",
    "print(f\"rmse: {rmse:.2f}\")"
   ]
  },
  {
   "cell_type": "code",
   "execution_count": null,
   "id": "3e096f6b-a23c-4e9f-a00b-6c197a8ed293",
   "metadata": {},
   "outputs": [],
   "source": []
  },
  {
   "cell_type": "code",
   "execution_count": null,
   "id": "c330b256-0d27-432c-a756-b43f1d4aa911",
   "metadata": {},
   "outputs": [],
   "source": []
  },
  {
   "cell_type": "code",
   "execution_count": null,
   "id": "4556da6b-69ca-41ea-bab9-fa3e754632d0",
   "metadata": {},
   "outputs": [],
   "source": []
  },
  {
   "cell_type": "code",
   "execution_count": null,
   "id": "8ee435a7-f48b-4ca1-a14d-cc9a66248e35",
   "metadata": {},
   "outputs": [],
   "source": []
  },
  {
   "cell_type": "code",
   "execution_count": null,
   "id": "8160884f-8e38-4afa-834b-d2ffde0b15e1",
   "metadata": {},
   "outputs": [],
   "source": []
  }
 ],
 "metadata": {
  "kernelspec": {
   "display_name": "Python 3 (ipykernel)",
   "language": "python",
   "name": "python3"
  },
  "language_info": {
   "codemirror_mode": {
    "name": "ipython",
    "version": 3
   },
   "file_extension": ".py",
   "mimetype": "text/x-python",
   "name": "python",
   "nbconvert_exporter": "python",
   "pygments_lexer": "ipython3",
   "version": "3.10.8"
  }
 },
 "nbformat": 4,
 "nbformat_minor": 5
}
